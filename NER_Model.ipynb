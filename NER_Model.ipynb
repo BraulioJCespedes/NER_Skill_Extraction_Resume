{
 "cells": [
  {
   "metadata": {
    "ExecuteTime": {
     "end_time": "2024-05-28T01:01:32.432492Z",
     "start_time": "2024-05-28T01:01:28.141570Z"
    }
   },
   "cell_type": "code",
   "source": [
    "import argparse\n",
    "import numpy as np\n",
    "import pandas as pd\n",
    "import torch\n",
    "from transformers import BertForTokenClassification, BertTokenizerFast\n",
    "from torch.utils.data import Dataset, DataLoader, RandomSampler, SequentialSampler\n",
    "from torch.optim import Adam\n",
    "from utils import trim_entity_spans, convert_goldparse, ResumeDataset, tag2idx, idx2tag, get_hyperparameters, train_and_val_model"
   ],
   "id": "27b6c691bc089882",
   "outputs": [],
   "execution_count": 1
  },
  {
   "metadata": {
    "ExecuteTime": {
     "end_time": "2024-05-28T01:01:34.654137Z",
     "start_time": "2024-05-28T01:01:34.633970Z"
    }
   },
   "cell_type": "code",
   "source": [
    "parser = argparse.ArgumentParser(description='Train Bert-NER')\n",
    "parser.add_argument('-e', type=int, default=5, help='number of epochs')\n",
    "parser.add_argument('-o', type=str, default='.',\n",
    "                    help='output path to save model state')"
   ],
   "id": "4334d769c2da7cdb",
   "outputs": [
    {
     "data": {
      "text/plain": [
       "_StoreAction(option_strings=['-o'], dest='o', nargs=None, const=None, default='.', type=<class 'str'>, choices=None, help='output path to save model state', metavar=None)"
      ]
     },
     "execution_count": 2,
     "metadata": {},
     "output_type": "execute_result"
    }
   ],
   "execution_count": 2
  },
  {
   "metadata": {
    "ExecuteTime": {
     "end_time": "2024-05-28T01:01:35.537664Z",
     "start_time": "2024-05-28T01:01:35.528654Z"
    }
   },
   "cell_type": "code",
   "source": "args = parser.parse_args().__dict__",
   "id": "95c35f858206ee5b",
   "outputs": [
    {
     "name": "stderr",
     "output_type": "stream",
     "text": [
      "usage: ipykernel_launcher.py [-h] [-e E] [-o O]\n",
      "ipykernel_launcher.py: error: unrecognized arguments: -f C:\\Users\\TUF\\AppData\\Roaming\\jupyter\\runtime\\kernel-42f730fc-3da6-4188-acfd-64e47fe625ae.json\n"
     ]
    },
    {
     "ename": "SystemExit",
     "evalue": "2",
     "output_type": "error",
     "traceback": [
      "An exception has occurred, use %tb to see the full traceback.\n",
      "\u001B[1;31mSystemExit\u001B[0m\u001B[1;31m:\u001B[0m 2\n"
     ]
    },
    {
     "name": "stderr",
     "output_type": "stream",
     "text": [
      "D:\\Developments\\Python\\DeepLearning\\NER_Resume\\.venv\\lib\\site-packages\\IPython\\core\\interactiveshell.py:3585: UserWarning: To exit: use 'exit', 'quit', or Ctrl-D.\n",
      "  warn(\"To exit: use 'exit', 'quit', or Ctrl-D.\", stacklevel=1)\n"
     ]
    }
   ],
   "execution_count": 3
  },
  {
   "metadata": {
    "ExecuteTime": {
     "end_time": "2024-05-28T01:01:36.903048Z",
     "start_time": "2024-05-28T01:01:36.839531Z"
    }
   },
   "cell_type": "code",
   "source": [
    "MAX_LEN = 500\n",
    "EPOCHS = 100\n",
    "MAX_GRAD_NORM = 1.0\n",
    "MODEL_NAME = 'bert-base-uncased'\n",
    "TOKENIZER = BertTokenizerFast('./vocab/vocab.txt', lowercase=True) ## Important section\n",
    "DEVICE = torch.device(\"cuda\" if torch.cuda.is_available() else \"cpu\")"
   ],
   "id": "9bf3d5c9d034ee5d",
   "outputs": [],
   "execution_count": 4
  },
  {
   "metadata": {
    "ExecuteTime": {
     "end_time": "2024-05-28T01:01:57.754084Z",
     "start_time": "2024-05-28T01:01:40.745675Z"
    }
   },
   "cell_type": "code",
   "source": "data = trim_entity_spans(convert_goldparse('./data/Resumes.json'))",
   "id": "d6cd8084f950f3c2",
   "outputs": [],
   "execution_count": 5
  },
  {
   "metadata": {
    "ExecuteTime": {
     "end_time": "2024-05-28T01:02:07.003792Z",
     "start_time": "2024-05-28T01:02:06.993793Z"
    }
   },
   "cell_type": "code",
   "source": [
    "total = len(data)\n",
    "train_data, val_data = data[:180], data[180:]"
   ],
   "id": "c364349e2fbcde3b",
   "outputs": [],
   "execution_count": 6
  },
  {
   "metadata": {
    "ExecuteTime": {
     "end_time": "2024-05-28T01:02:08.619726Z",
     "start_time": "2024-05-28T01:02:08.602727Z"
    }
   },
   "cell_type": "code",
   "source": [
    "train_d = ResumeDataset(train_data, TOKENIZER, tag2idx, MAX_LEN)\n",
    "val_d = ResumeDataset(val_data, TOKENIZER, tag2idx, MAX_LEN)\n",
    "\n",
    "val_dl = DataLoader(val_d, batch_size=4)"
   ],
   "id": "2fa70b164f2cc74a",
   "outputs": [],
   "execution_count": 7
  },
  {
   "metadata": {
    "ExecuteTime": {
     "end_time": "2024-05-28T01:02:09.582700Z",
     "start_time": "2024-05-28T01:02:09.577698Z"
    }
   },
   "cell_type": "code",
   "source": [
    "train_sampler = RandomSampler(train_d)\n",
    "train_dl = DataLoader(train_d, sampler=train_sampler, batch_size=8)"
   ],
   "id": "671b0da6789a4520",
   "outputs": [],
   "execution_count": 8
  },
  {
   "metadata": {
    "ExecuteTime": {
     "end_time": "2024-05-28T01:26:40.217564Z",
     "start_time": "2024-05-28T01:26:38.396896Z"
    }
   },
   "cell_type": "code",
   "source": [
    "model = BertForTokenClassification.from_pretrained('bert-base-uncased', num_labels=len(tag2idx))\n",
    "model.to(DEVICE)\n",
    "optimizer_grouped_parameters = get_hyperparameters(model, True)\n",
    "optimizer = Adam(optimizer_grouped_parameters, lr=3e-5)"
   ],
   "id": "47ea04809e735629",
   "outputs": [
    {
     "name": "stderr",
     "output_type": "stream",
     "text": [
      "Some weights of BertForTokenClassification were not initialized from the model checkpoint at bert-base-uncased and are newly initialized: ['classifier.bias', 'classifier.weight']\n",
      "You should probably TRAIN this model on a down-stream task to be able to use it for predictions and inference.\n"
     ]
    }
   ],
   "execution_count": 10
  },
  {
   "metadata": {},
   "cell_type": "code",
   "source": [
    "train_and_val_model(\n",
    "    model,\n",
    "    TOKENIZER,\n",
    "    optimizer,\n",
    "    EPOCHS,\n",
    "    idx2tag,\n",
    "    tag2idx,\n",
    "    MAX_GRAD_NORM,\n",
    "    DEVICE,\n",
    "    train_dl,\n",
    "    val_dl\n",
    ")"
   ],
   "id": "85f4eec1a5b4a35b",
   "outputs": [],
   "execution_count": null
  }
 ],
 "metadata": {
  "kernelspec": {
   "display_name": "Python 3",
   "language": "python",
   "name": "python3"
  },
  "language_info": {
   "codemirror_mode": {
    "name": "ipython",
    "version": 2
   },
   "file_extension": ".py",
   "mimetype": "text/x-python",
   "name": "python",
   "nbconvert_exporter": "python",
   "pygments_lexer": "ipython2",
   "version": "2.7.6"
  }
 },
 "nbformat": 4,
 "nbformat_minor": 5
}
