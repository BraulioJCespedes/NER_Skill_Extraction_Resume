{
 "cells": [
  {
   "metadata": {
    "ExecuteTime": {
     "end_time": "2024-05-27T23:36:34.416880Z",
     "start_time": "2024-05-27T23:36:31.853619Z"
    }
   },
   "cell_type": "code",
   "source": "from transformers import BertTokenizer",
   "id": "ab7a73c5e0438945",
   "outputs": [],
   "execution_count": 1
  },
  {
   "metadata": {
    "ExecuteTime": {
     "end_time": "2024-05-27T23:36:34.708921Z",
     "start_time": "2024-05-27T23:36:34.419352Z"
    }
   },
   "cell_type": "code",
   "source": "tokenizer = BertTokenizer.from_pretrained('bert-base-uncased')",
   "id": "8f718d05e52857a",
   "outputs": [],
   "execution_count": 2
  },
  {
   "cell_type": "code",
   "id": "initial_id",
   "metadata": {
    "collapsed": true,
    "ExecuteTime": {
     "end_time": "2024-05-27T23:43:36.901418Z",
     "start_time": "2024-05-27T23:43:36.893411Z"
    }
   },
   "source": [
    "john = \"\"\"\n",
    "John Michael Smith | Location: New York, NY | Phone: (212) 555-7890 | Email: johnathan.smith@example.com\n",
    "• Programming Languages: Java, Python, C++, JavaScript\n",
    "• Web Development: HTML, CSS, React, Node.js\n",
    "• Databases: PostgreSQL, MongoDB, MySQL\n",
    "• Tools & Technologies: Docker, Kubernetes, Git, Jenkins\n",
    "• Cloud Platforms: AWS, Azure, Google Cloud\n",
    "• Machine Learning: TensorFlow, PyTorch, scikit-learn\n",
    "• Other: Agile methodologies, Test-Driven Development, RESTful API design\n",
    "\"\"\""
   ],
   "outputs": [],
   "execution_count": 16
  },
  {
   "metadata": {
    "ExecuteTime": {
     "end_time": "2024-05-27T23:43:37.132902Z",
     "start_time": "2024-05-27T23:43:37.120370Z"
    }
   },
   "cell_type": "code",
   "source": [
    "john_tokens = tokenizer.tokenize(john)\n",
    "tokens = tokenizer(john, return_tensors=\"pt\", truncation=True, padding=True, is_split_into_words=True)\n",
    "actual_tags = [0] * len(tokens.input_ids[0])\n",
    "print(actual_tags)\n",
    "print(john_tokens)"
   ],
   "id": "e312fde627553165",
   "outputs": [
    {
     "name": "stdout",
     "output_type": "stream",
     "text": [
      "[0, 0, 0, 0, 0, 0, 0, 0, 0, 0, 0, 0, 0, 0, 0, 0, 0, 0, 0, 0, 0, 0, 0, 0, 0, 0, 0, 0, 0, 0, 0, 0, 0, 0, 0, 0, 0, 0, 0, 0, 0, 0, 0, 0, 0, 0, 0, 0, 0, 0, 0, 0, 0, 0, 0, 0, 0, 0, 0, 0, 0, 0, 0, 0, 0, 0, 0, 0, 0, 0, 0, 0, 0, 0, 0, 0, 0, 0, 0, 0, 0, 0, 0, 0, 0, 0, 0, 0, 0, 0, 0, 0, 0, 0, 0, 0, 0, 0, 0, 0, 0, 0, 0, 0, 0, 0, 0, 0, 0, 0, 0, 0, 0, 0, 0, 0, 0, 0, 0, 0, 0, 0, 0, 0, 0, 0, 0, 0, 0, 0, 0, 0, 0, 0, 0, 0, 0, 0, 0]\n",
      "['john', 'michael', 'smith', '|', 'location', ':', 'new', 'york', ',', 'ny', '|', 'phone', ':', '(', '212', ')', '555', '-', '78', '##90', '|', 'email', ':', 'john', '##athan', '.', 'smith', '@', 'example', '.', 'com', '•', 'programming', 'languages', ':', 'java', ',', 'python', ',', 'c', '+', '+', ',', 'java', '##script', '•', 'web', 'development', ':', 'html', ',', 'cs', '##s', ',', 'react', ',', 'node', '.', 'j', '##s', '•', 'databases', ':', 'post', '##gre', '##s', '##q', '##l', ',', 'mon', '##go', '##db', ',', 'my', '##s', '##q', '##l', '•', 'tools', '&', 'technologies', ':', 'dock', '##er', ',', 'ku', '##ber', '##net', '##es', ',', 'gi', '##t', ',', 'jenkins', '•', 'cloud', 'platforms', ':', 'aw', '##s', ',', 'azure', ',', 'google', 'cloud', '•', 'machine', 'learning', ':', 'tensor', '##flow', ',', 'p', '##yt', '##or', '##ch', ',', 'sci', '##kit', '-', 'learn', '•', 'other', ':', 'agile', 'method', '##ologies', ',', 'test', '-', 'driven', 'development', ',', 'rest', '##ful', 'api', 'design']\n"
     ]
    }
   ],
   "execution_count": 17
  },
  {
   "metadata": {
    "ExecuteTime": {
     "end_time": "2024-05-27T23:50:41.634094Z",
     "start_time": "2024-05-27T23:50:41.622778Z"
    }
   },
   "cell_type": "code",
   "source": [
    "lisa = \"\"\"\n",
    "Lisa Marie Johnson | Location: Chicago, IL | Phone: (312) 555-6789 | Email:\n",
    "lisa.johnson@example.com\n",
    "LinkedIn: https://www.linkedin.com/in/lisa-marie-johnson/\n",
    "Accounting Software: QuickBooks, SAP, Oracle Financials\n",
    "Financial Analysis Tools: Microsoft Excel, Microsoft Access, Tableau\n",
    "Regulatory Compliance: GAAP, IFRS, SOX\n",
    "Financial Reporting, Budgeting, Auditing, Tax Preparation, Payroll Processing\n",
    "\"\"\""
   ],
   "id": "5672a2b9c89aea5d",
   "outputs": [],
   "execution_count": 19
  },
  {
   "metadata": {
    "ExecuteTime": {
     "end_time": "2024-05-27T23:50:41.820750Z",
     "start_time": "2024-05-27T23:50:41.806230Z"
    }
   },
   "cell_type": "code",
   "source": [
    "lisa_tokens = tokenizer.tokenize(lisa)\n",
    "tokens = tokenizer(lisa, return_tensors=\"pt\", truncation=True, padding=True, is_split_into_words=True)\n",
    "actual_tags = [0] * len(tokens.input_ids[0])\n",
    "print(actual_tags)\n",
    "print(lisa_tokens)"
   ],
   "id": "fbc7ccfc34be630f",
   "outputs": [
    {
     "name": "stdout",
     "output_type": "stream",
     "text": [
      "[0, 0, 0, 0, 0, 0, 0, 0, 0, 0, 0, 0, 0, 0, 0, 0, 0, 0, 0, 0, 0, 0, 0, 0, 0, 0, 0, 0, 0, 0, 0, 0, 0, 0, 0, 0, 0, 0, 0, 0, 0, 0, 0, 0, 0, 0, 0, 0, 0, 0, 0, 0, 0, 0, 0, 0, 0, 0, 0, 0, 0, 0, 0, 0, 0, 0, 0, 0, 0, 0, 0, 0, 0, 0, 0, 0, 0, 0, 0, 0, 0, 0, 0, 0, 0, 0, 0, 0, 0, 0, 0, 0, 0, 0, 0, 0, 0, 0, 0, 0, 0]\n",
      "['lisa', 'marie', 'johnson', '|', 'location', ':', 'chicago', ',', 'il', '|', 'phone', ':', '(', '312', ')', '555', '-', '67', '##8', '##9', '|', 'email', ':', 'lisa', '.', 'johnson', '@', 'example', '.', 'com', 'linked', '##in', ':', 'https', ':', '/', '/', 'www', '.', 'linked', '##in', '.', 'com', '/', 'in', '/', 'lisa', '-', 'marie', '-', 'johnson', '/', 'accounting', 'software', ':', 'quick', '##books', ',', 'sap', ',', 'oracle', 'financial', '##s', 'financial', 'analysis', 'tools', ':', 'microsoft', 'excel', ',', 'microsoft', 'access', ',', 'table', '##au', 'regulatory', 'compliance', ':', 'gaa', '##p', ',', 'if', '##rs', ',', 'sox', 'financial', 'reporting', ',', 'budget', '##ing', ',', 'audit', '##ing', ',', 'tax', 'preparation', ',', 'payroll', 'processing']\n"
     ]
    }
   ],
   "execution_count": 20
  },
  {
   "metadata": {},
   "cell_type": "code",
   "outputs": [],
   "execution_count": null,
   "source": [
    "maria = \"\"\"\n",
    "Maria Elena Gonzalez | Location: San Francisco, CA | Phone: (415) 555-1234 | Email:maria.gonzalez@example.com\n",
    "GitHub: https://github.com/mariagonzalez | LinkedIn: https://www.linkedin.com/in/maria-elena-gonzalez/\n",
    "Programming Languages: JavaScript, Python, Ruby\n",
    "Web Development: HTML, CSS, React, Angular, Node.js, Express\n",
    "Databases: MySQL, MongoDB, PostgreSQL\n",
    "Tools & Technologies: Docker, Kubernetes, Git, Jenkins, Jira\n",
    "Cloud Platforms: AWS, Heroku, Azure\n",
    "Other: Agile methodologies, Test-Driven Development (TDD), RESTful APIs\n",
    "\"\"\""
   ],
   "id": "bc1238215e72e281"
  },
  {
   "metadata": {},
   "cell_type": "code",
   "outputs": [],
   "execution_count": null,
   "source": [
    "maria_tokens = tokenizer.tokenize(maria)\n",
    "tokens = tokenizer(maria, return_tensors=\"pt\", truncation=True, padding=True, is_split_into_words=True)\n",
    "actual_tags = [0] * len(tokens.input_ids[0])\n",
    "print(actual_tags)\n",
    "print(maria_tokens)"
   ],
   "id": "4510f2d2e18a3b73"
  },
  {
   "metadata": {},
   "cell_type": "code",
   "outputs": [],
   "execution_count": null,
   "source": [
    "amar = \"\"\"\n",
    "Amar Rathore | 256 Main Street | Anytown, Canada 12345 | (555) 555-5555 | amar.rathore@email.com | linkedin.com/in/amarrathore\n",
    "Technical Skills:\n",
    "Data Analysis: SQL, Excel, R, Python\n",
    "Data Visualization: Tableau, Power BI\n",
    "Statistical Analysis: Regression Analysis, Hypothesis Testing\n",
    "Databases: MySQL, SQL Server\n",
    "\"\"\""
   ],
   "id": "2afd61a3fa273dc1"
  },
  {
   "metadata": {},
   "cell_type": "code",
   "outputs": [],
   "execution_count": null,
   "source": [
    "amar_tokens = tokenizer.tokenize(amar)\n",
    "tokens = tokenizer(maria, return_tensors=\"pt\", truncation=True, padding=True, is_split_into_words=True)\n",
    "actual_tags = [0] * len(tokens.input_ids[0])\n",
    "print(actual_tags)\n",
    "print(amar_tokens)"
   ],
   "id": "4ff367c697936478"
  },
  {
   "metadata": {},
   "cell_type": "code",
   "outputs": [],
   "execution_count": null,
   "source": [
    "anna = \"\"\"\n",
    "Anna Ray | 123 Main Street | Anytown, Canada 12345 | (555) 555-5555 | john.doe@email.com | linkedin.com/in/annaray\n",
    "Technical Skills:\n",
    "Programming Languages: Java, Python, C++\n",
    "Web Development: HTML, CSS, JavaScript\n",
    "Databases: MySQL, PostgreSQL\n",
    "Frameworks: Spring, Django\n",
    "Tools: Git, Jenkins, Docker\n",
    "\"\"\""
   ],
   "id": "6ce83581179e1ff6"
  },
  {
   "metadata": {},
   "cell_type": "code",
   "outputs": [],
   "execution_count": null,
   "source": [
    "anna_tokens = tokenizer.tokenize(anna)\n",
    "tokens = tokenizer(maria, return_tensors=\"pt\", truncation=True, padding=True, is_split_into_words=True)\n",
    "actual_tags = [0] * len(tokens.input_ids[0])\n",
    "print(actual_tags)\n",
    "print(amar_tokens)"
   ],
   "id": "623d9ac7f4fa5a6d"
  }
 ],
 "metadata": {
  "kernelspec": {
   "display_name": "Python 3",
   "language": "python",
   "name": "python3"
  },
  "language_info": {
   "codemirror_mode": {
    "name": "ipython",
    "version": 2
   },
   "file_extension": ".py",
   "mimetype": "text/x-python",
   "name": "python",
   "nbconvert_exporter": "python",
   "pygments_lexer": "ipython2",
   "version": "2.7.6"
  }
 },
 "nbformat": 4,
 "nbformat_minor": 5
}
